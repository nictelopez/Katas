{
 "cells": [
  {
   "cell_type": "markdown",
   "metadata": {},
   "source": [
    "# Ejercicio - Escribir declaraciones `if`, `else`, y `elif`"
   ]
  },
  {
   "cell_type": "markdown",
   "metadata": {},
   "source": [
    "## Problema 1"
   ]
  },
  {
   "cell_type": "code",
   "execution_count": 4,
   "metadata": {},
   "outputs": [
    {
     "name": "stdout",
     "output_type": "stream",
     "text": [
      "¡ALERTA!\n"
     ]
    }
   ],
   "source": [
    "Asteroide = 25\n",
    "if Asteroide > 25:\n",
    "    print ('¡ALERTA!')\n",
    "else:\n",
    "    print ('Todo bien')"
   ]
  },
  {
   "cell_type": "markdown",
   "metadata": {},
   "source": [
    "## Problema 2\n"
   ]
  },
  {
   "cell_type": "code",
   "execution_count": 6,
   "metadata": {},
   "outputs": [
    {
     "name": "stdout",
     "output_type": "stream",
     "text": [
      "Ten un buen dia <3\n"
     ]
    }
   ],
   "source": [
    "Asteroide = 19\n",
    "if Asteroide > 20:\n",
    "    print ('Mira la luz!!')\n",
    "elif Asteroide == 20:\n",
    "    print ('Mira la luz!!')\n",
    "else :\n",
    "    print ('Ten un buen dia <3')"
   ]
  },
  {
   "cell_type": "markdown",
   "metadata": {},
   "source": [
    "## Problema 3\n"
   ]
  },
  {
   "cell_type": "code",
   "execution_count": 9,
   "metadata": {},
   "outputs": [
    {
     "name": "stdout",
     "output_type": "stream",
     "text": [
      "Un asteroide viene hacia la tierra\n"
     ]
    }
   ],
   "source": [
    "velocidad_asteroide = 100\n",
    "tamaño_asteroide = 50\n",
    "if velocidad_asteroide > 25 and tamaño_asteroide > 25:\n",
    "    print ('Un asteroide viene hacia la tierra')\n",
    "elif velocidad_asteroide >= 20:\n",
    "    print ('Mira esa luz en el cielo')\n",
    "elif tamaño_asteroide < 25:\n",
    "    print('Have a nice day :)')\n",
    "else:\n",
    "    print('Have a nice day :)') "
   ]
  }
 ],
 "metadata": {
  "interpreter": {
   "hash": "aee8b7b246df8f9039afb4144a1f6fd8d2ca17a180786b69acc140d282b71a49"
  },
  "kernelspec": {
   "display_name": "Python 3.10.2 64-bit",
   "language": "python",
   "name": "python3"
  },
  "language_info": {
   "codemirror_mode": {
    "name": "ipython",
    "version": 3
   },
   "file_extension": ".py",
   "mimetype": "text/x-python",
   "name": "python",
   "nbconvert_exporter": "python",
   "pygments_lexer": "ipython3",
   "version": "3.10.2"
  },
  "orig_nbformat": 4
 },
 "nbformat": 4,
 "nbformat_minor": 2
}
